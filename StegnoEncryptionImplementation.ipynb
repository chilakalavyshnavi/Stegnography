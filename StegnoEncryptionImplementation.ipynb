{
  "nbformat": 4,
  "nbformat_minor": 0,
  "metadata": {
    "colab": {
      "provenance": [],
      "authorship_tag": "ABX9TyMdr4eYGTD7wI5NyAziQHk4",
      "include_colab_link": true
    },
    "kernelspec": {
      "name": "python3",
      "display_name": "Python 3"
    },
    "language_info": {
      "name": "python"
    }
  },
  "cells": [
    {
      "cell_type": "markdown",
      "metadata": {
        "id": "view-in-github",
        "colab_type": "text"
      },
      "source": [
        "<a href=\"https://colab.research.google.com/github/chilakalavyshnavi/Stegnography/blob/main/StegnoEncryptionImplementation.ipynb\" target=\"_parent\"><img src=\"https://colab.research.google.com/assets/colab-badge.svg\" alt=\"Open In Colab\"/></a>"
      ]
    },
    {
      "cell_type": "code",
      "metadata": {
        "colab": {
          "base_uri": "https://localhost:8080/"
        },
        "id": "6f908a66",
        "outputId": "5fb980d4-b305-4d9c-a41c-cd2ad96c0fae"
      },
      "source": [
        "!pip install pycryptodome"
      ],
      "execution_count": 2,
      "outputs": [
        {
          "output_type": "stream",
          "name": "stdout",
          "text": [
            "Requirement already satisfied: pycryptodome in /usr/local/lib/python3.11/dist-packages (3.23.0)\n"
          ]
        }
      ]
    },
    {
      "cell_type": "code",
      "execution_count": 3,
      "metadata": {
        "id": "3raEJyxN_UA1"
      },
      "outputs": [],
      "source": [
        "#secret, key-> stegnography-> stego object + encryption key cipher\n",
        "import cv2\n",
        "import string\n",
        "import os\n",
        "from Crypto.Cipher import AES #AES cipher\n",
        "from Crypto.Util.Padding import pad, unpad #ensure input text fits AES block size\n",
        "from Crypto.Random import get_random_bytes\n",
        "import hashlib"
      ]
    },
    {
      "cell_type": "code",
      "source": [
        "#key generation\n",
        "#encryption\n",
        "#decryption\n",
        "\n",
        "def derive_key(userkey):\n",
        "  return hashlib.sha256(userkey.encode()).digest()[:16]\n"
      ],
      "metadata": {
        "id": "P0-LqVwmBuwV"
      },
      "execution_count": 4,
      "outputs": []
    },
    {
      "cell_type": "code",
      "source": [
        "def encrypt_message(msg, userkey):\n",
        "  key=derive_key(userkey) #hashing key\n",
        "  cipher=AES.new(key, AES.MODE_CBC) #aes cipher\n",
        "  ct=cipher.encrypt(pad(msg.encode(), AES.block_size))\n",
        "  iv=cipher.iv\n",
        "  return iv+ct"
      ],
      "metadata": {
        "id": "9_s3WraGCOae"
      },
      "execution_count": 5,
      "outputs": []
    },
    {
      "cell_type": "code",
      "source": [
        "def decrypt_message(cipher_bytes, userkey):\n",
        "  key=derive_key(userkey) #hashing key\n",
        "  iv=cipher_bytes[:16]\n",
        "  ct=cipher_bytes[16:]\n",
        "  cipher=AES.new(key, AES.MODE_CBC,iv)\n",
        "  return unpad(cipher.decrypt(ct), AES.block_size).decode()"
      ],
      "metadata": {
        "id": "uMTg8aAvC5TP"
      },
      "execution_count": 6,
      "outputs": []
    },
    {
      "cell_type": "code",
      "source": [
        "d={}\n",
        "c={}\n",
        "for i in range(256):\n",
        "    d[chr(i)]=i\n",
        "    c[i]=chr(i)"
      ],
      "metadata": {
        "id": "pMUzUZN7EoaS"
      },
      "execution_count": 7,
      "outputs": []
    },
    {
      "cell_type": "code",
      "source": [
        "x=cv2.imread(r\"/content/aesthetic lockscreen.jpg\")\n",
        "print(x)"
      ],
      "metadata": {
        "colab": {
          "base_uri": "https://localhost:8080/"
        },
        "id": "c45tMiwuE7qP",
        "outputId": "14baf847-308e-4411-b1f8-98c27934ab1b"
      },
      "execution_count": 8,
      "outputs": [
        {
          "output_type": "stream",
          "name": "stdout",
          "text": [
            "[[[ 29  16 131]\n",
            "  [ 28  17 127]\n",
            "  [ 26  16 116]\n",
            "  ...\n",
            "  [ 21  11 117]\n",
            "  [ 19   9 115]\n",
            "  [ 18   8 114]]\n",
            "\n",
            " [[ 31  18 133]\n",
            "  [ 31  20 130]\n",
            "  [ 29  18 120]\n",
            "  ...\n",
            "  [ 24  14 120]\n",
            "  [ 23  13 120]\n",
            "  [ 22  12 118]]\n",
            "\n",
            " [[ 31  19 131]\n",
            "  [ 33  22 132]\n",
            "  [ 34  23 125]\n",
            "  ...\n",
            "  [ 30  20 127]\n",
            "  [ 28  17 127]\n",
            "  [ 27  17 124]]\n",
            "\n",
            " ...\n",
            "\n",
            " [[ 12  26  49]\n",
            "  [ 10  24  46]\n",
            "  [  7  20  42]\n",
            "  ...\n",
            "  [ 11   7 102]\n",
            "  [ 13   9 105]\n",
            "  [ 14  10 105]]\n",
            "\n",
            " [[  8  21  43]\n",
            "  [  5  19  38]\n",
            "  [  3  14  34]\n",
            "  ...\n",
            "  [  7   4  96]\n",
            "  [  8   4  99]\n",
            "  [  9   6  98]]\n",
            "\n",
            " [[  4  18  37]\n",
            "  [  1  15  34]\n",
            "  [  0  12  30]\n",
            "  ...\n",
            "  [  5   2  94]\n",
            "  [  6   3  95]\n",
            "  [  7   4  96]]]\n"
          ]
        }
      ]
    },
    {
      "cell_type": "code",
      "source": [
        "key=\"123\"\n",
        "text=\"secret\""
      ],
      "metadata": {
        "id": "_qWsF1OGYDFw"
      },
      "execution_count": 9,
      "outputs": []
    },
    {
      "cell_type": "code",
      "source": [
        "encrypted_bytes=encrypt_message(text, key)\n",
        "l=len(encrypted_bytes)\n",
        "print(l)\n"
      ],
      "metadata": {
        "colab": {
          "base_uri": "https://localhost:8080/"
        },
        "id": "ott9rFQWYJSo",
        "outputId": "ad486d35-d7b8-40cd-feb4-e9845019dbcd"
      },
      "execution_count": 10,
      "outputs": [
        {
          "output_type": "stream",
          "name": "stdout",
          "text": [
            "32\n"
          ]
        }
      ]
    },
    {
      "cell_type": "code",
      "source": [
        "n=0 #no of rows\n",
        "m=0 #no of columns\n",
        "z=0 #colour panel\n",
        "kl=0\n",
        "for i in range(l):\n",
        "  x[n,m,z]=encrypted_bytes[i]^d[key[kl]]\n",
        "  #print(f\"Embedding '[text{i}]' (ASCII {d[text[i]]}) XOR '{key[kl]}' (ASCII {d[key[kl]]}) = {new_val} at pixel ({n},{m},{z}) [original={orig_val}]\")\n",
        "  n=n+1\n",
        "  m=m+1\n",
        "  z=(z+1)%3\n",
        "  m=(m+1)%3\n",
        "  kl=(kl+1)%len(key)"
      ],
      "metadata": {
        "id": "yFUx5QkMZwb7"
      },
      "execution_count": 11,
      "outputs": []
    },
    {
      "cell_type": "code",
      "source": [
        "cv2.imwrite(\"encrypting.jpg\",x)\n",
        "print(\"success\")"
      ],
      "metadata": {
        "colab": {
          "base_uri": "https://localhost:8080/"
        },
        "id": "14P2VWIjbPAi",
        "outputId": "b1f51e31-d257-4d6c-aaa1-6aed33e5051d"
      },
      "execution_count": 12,
      "outputs": [
        {
          "output_type": "stream",
          "name": "stdout",
          "text": [
            "success\n"
          ]
        }
      ]
    },
    {
      "cell_type": "code",
      "source": [
        "n,m,z=0,0,0\n",
        "kl=0\n",
        "key1=input(\"renter key\")\n",
        "if key==key1:\n",
        "  encrypted_back=bytearray()\n",
        "  for i in range(l):\n",
        "        encrypted_back.append(x[n,m,z]^d[key[kl]])\n",
        "        n=n+1\n",
        "        m=m+1\n",
        "        m=(m+1)%3\n",
        "        z=(z+1)%3\n",
        "        kl=(kl+1)%len(key)\n",
        "        decrypted=decrypt_message(encrypted_back, key)\n",
        "        print(decrypted)\n",
        "  else:\n",
        "    print(\"key mismatch\")"
      ],
      "metadata": {
        "colab": {
          "base_uri": "https://localhost:8080/"
        },
        "id": "mx_FYsBbcIAD",
        "outputId": "709fd095-721e-48c3-bfd9-6f8acac01734"
      },
      "execution_count": 13,
      "outputs": [
        {
          "name": "stdout",
          "output_type": "stream",
          "text": [
            "renter keykey1\n"
          ]
        }
      ]
    }
  ]
}