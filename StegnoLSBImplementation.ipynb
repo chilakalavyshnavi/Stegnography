{
  "nbformat": 4,
  "nbformat_minor": 0,
  "metadata": {
    "colab": {
      "provenance": [],
      "authorship_tag": "ABX9TyPAf0RAqvUAzSSBybPY8iq2",
      "include_colab_link": true
    },
    "kernelspec": {
      "name": "python3",
      "display_name": "Python 3"
    },
    "language_info": {
      "name": "python"
    }
  },
  "cells": [
    {
      "cell_type": "markdown",
      "metadata": {
        "id": "view-in-github",
        "colab_type": "text"
      },
      "source": [
        "<a href=\"https://colab.research.google.com/github/chilakalavyshnavi/Stegnography/blob/main/StegnoLSBImplementation.ipynb\" target=\"_parent\"><img src=\"https://colab.research.google.com/assets/colab-badge.svg\" alt=\"Open In Colab\"/></a>"
      ]
    },
    {
      "cell_type": "code",
      "execution_count": 1,
      "metadata": {
        "id": "KfUjUvIDxi4-"
      },
      "outputs": [],
      "source": [
        "import numpy as np"
      ]
    },
    {
      "cell_type": "code",
      "source": [
        "#Create ASCII mapping dictionaries\n",
        "d={chr(i):i for i in range(255)}   #char to int(ascii)\n",
        "c={i:chr(i) for i in range(255)}     #int to char"
      ],
      "metadata": {
        "id": "qnfx6gZNyHzl"
      },
      "execution_count": 2,
      "outputs": []
    },
    {
      "cell_type": "code",
      "source": [
        "#message and encryption key\n",
        "text=\"Hello\"\n",
        "key=\"key\""
      ],
      "metadata": {
        "id": "gejPsw3yyRHm"
      },
      "execution_count": 3,
      "outputs": []
    },
    {
      "cell_type": "code",
      "source": [
        "#crreate a dummy 10x10 rgb image with random pixel values\n",
        "x=np.random.randint(0,255,(10,10,3),dtype=np.uint8)"
      ],
      "metadata": {
        "id": "P-bx0NNwyy5T"
      },
      "execution_count": 4,
      "outputs": []
    },
    {
      "cell_type": "code",
      "source": [
        "x_enc=x.copy()\n",
        "n=0 #pixel row\n",
        "m=0 #pixel column\n",
        "z=0 #color channel\n",
        "l=len(text)  #no.of characters to encode\n",
        "kl=0  #index for key\n",
        "\n",
        "#encrypt and embed using lsb\n",
        "for i in range(l):\n",
        "    char_val=d[text[i]]^d[key[kl]]\n",
        "    for bit_pos in range(8):\n",
        "      bit=(char_val >> (7-bit_pos)) & 1\n",
        "      org_val =x_enc[n,m,z]\n",
        "      # Use a bitmask to clear the LSB\n",
        "      x_enc[n,m,z]=(org_val & 0b11111110)| bit\n",
        "      #print(f\"Embedding bit {bit} of '{text[i]}' at ({n},{m},{z}) original={org_val} new={x_enc[n,m,z]}\")\n",
        "      z=(z+1)%3\n",
        "      if z==0:\n",
        "          m=m+1\n",
        "          if m==x_enc.shape[1]:\n",
        "              m=0\n",
        "              n=n+1\n",
        "    kl=(kl+1)%len(key)"
      ],
      "metadata": {
        "id": "Tvzvcv2jzoPL"
      },
      "execution_count": 5,
      "outputs": []
    },
    {
      "cell_type": "code",
      "source": [
        "#decryption\n",
        "n,m,z=0,0,0\n",
        "kl=0\n",
        "decrypt=\"\"\n",
        "for i in range(l):\n",
        "    val=0\n",
        "    for bit_pos in range(8):\n",
        "        bit=x_enc[n,m,z] & 1\n",
        "        val=(val << 1) | bit\n",
        "        print(f\"Reading bit {bit} from ({n},{m},{z})\")\n",
        "        z=(z+1)%3\n",
        "        if z==0:\n",
        "            m=m+1\n",
        "            if m==x_enc.shape[1]:\n",
        "                m=0\n",
        "                n=n+1\n",
        "    orig_char= c[val ^ d[key[kl]]]\n",
        "    decrypt+=c[val ^ d[key[kl]]]\n",
        "    print(f\"Decrypted byte: {val} XOR {d[key[kl]]} = {val ^ d[key[kl]]} -> '{orig_char}'\")\n",
        "    kl=(kl+1)%len(key)\n",
        "print(\"Decrypt text\", decrypt)"
      ],
      "metadata": {
        "colab": {
          "base_uri": "https://localhost:8080/"
        },
        "id": "RLfbRIei742u",
        "outputId": "de33b68c-fdae-4894-f0b1-08f7d5665d40"
      },
      "execution_count": 6,
      "outputs": [
        {
          "output_type": "stream",
          "name": "stdout",
          "text": [
            "Reading bit 0 from (0,0,0)\n",
            "Reading bit 0 from (0,0,1)\n",
            "Reading bit 1 from (0,0,2)\n",
            "Reading bit 0 from (0,1,0)\n",
            "Reading bit 0 from (0,1,1)\n",
            "Reading bit 0 from (0,1,2)\n",
            "Reading bit 1 from (0,2,0)\n",
            "Reading bit 1 from (0,2,1)\n",
            "Decrypted byte: 35 XOR 107 = 72 -> 'H'\n",
            "Reading bit 0 from (0,2,2)\n",
            "Reading bit 0 from (0,3,0)\n",
            "Reading bit 0 from (0,3,1)\n",
            "Reading bit 0 from (0,3,2)\n",
            "Reading bit 0 from (0,4,0)\n",
            "Reading bit 0 from (0,4,1)\n",
            "Reading bit 0 from (0,4,2)\n",
            "Reading bit 0 from (0,5,0)\n",
            "Decrypted byte: 0 XOR 101 = 101 -> 'e'\n",
            "Reading bit 0 from (0,5,1)\n",
            "Reading bit 0 from (0,5,2)\n",
            "Reading bit 0 from (0,6,0)\n",
            "Reading bit 1 from (0,6,1)\n",
            "Reading bit 0 from (0,6,2)\n",
            "Reading bit 1 from (0,7,0)\n",
            "Reading bit 0 from (0,7,1)\n",
            "Reading bit 1 from (0,7,2)\n",
            "Decrypted byte: 21 XOR 121 = 108 -> 'l'\n",
            "Reading bit 0 from (0,8,0)\n",
            "Reading bit 0 from (0,8,1)\n",
            "Reading bit 0 from (0,8,2)\n",
            "Reading bit 0 from (0,9,0)\n",
            "Reading bit 0 from (0,9,1)\n",
            "Reading bit 1 from (0,9,2)\n",
            "Reading bit 1 from (1,0,0)\n",
            "Reading bit 1 from (1,0,1)\n",
            "Decrypted byte: 7 XOR 107 = 108 -> 'l'\n",
            "Reading bit 0 from (1,0,2)\n",
            "Reading bit 0 from (1,1,0)\n",
            "Reading bit 0 from (1,1,1)\n",
            "Reading bit 0 from (1,1,2)\n",
            "Reading bit 1 from (1,2,0)\n",
            "Reading bit 0 from (1,2,1)\n",
            "Reading bit 1 from (1,2,2)\n",
            "Reading bit 0 from (1,3,0)\n",
            "Decrypted byte: 10 XOR 101 = 111 -> 'o'\n",
            "Decrypt text Hello\n"
          ]
        }
      ]
    }
  ]
}